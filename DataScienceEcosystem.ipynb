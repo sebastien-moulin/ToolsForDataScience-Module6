{
 "cells": [
  {
   "cell_type": "markdown",
   "id": "1d123cb0-50a8-4f19-adac-a7ea0070810c",
   "metadata": {},
   "source": [
    "# Data Science Tools and Ecosystem"
   ]
  },
  {
   "cell_type": "markdown",
   "id": "81d51bc8-7701-47c2-8453-6fa129eebe9a",
   "metadata": {},
   "source": [
    "## Author:\n",
    "Sebastien Moulin on 18 November 2024"
   ]
  },
  {
   "cell_type": "markdown",
   "id": "366ed1e4-9c62-47ca-9f4c-3d0d55a15f88",
   "metadata": {},
   "source": [
    "In this notebook, Data Science Tools and Ecosystem are summarized."
   ]
  },
  {
   "cell_type": "markdown",
   "id": "50e03ebb-1ad0-4ed7-9874-f1c2ce736112",
   "metadata": {},
   "source": [
    "**Objectives:**\n",
    "- Recap major languages used by DS\n",
    "- Recap major libraries used by DS\n",
    "- Recap major tools used by DS"
   ]
  },
  {
   "cell_type": "markdown",
   "id": "41ddc85f-8d7b-4aa3-b637-c3ffc4356aed",
   "metadata": {},
   "source": [
    "Some of the popular languages that Data Scientists use are:\n",
    "1. SQL\n",
    "2. R\n",
    "3. Python"
   ]
  },
  {
   "cell_type": "markdown",
   "id": "ad24e7b5-1761-4a89-9fad-63b177f739fa",
   "metadata": {},
   "source": [
    "Some of the commonly used libraries used by Data Scientists include:\n",
    "1. numpy\n",
    "2. panda\n",
    "3. ggplot"
   ]
  },
  {
   "cell_type": "markdown",
   "id": "0f03294c-677c-4865-a467-51a1aec04e29",
   "metadata": {},
   "source": [
    "Data Science Tools |\n",
    "------------------ |\n",
    "Anaconda           |\n",
    "Github             |\n",
    "Jupyter            |"
   ]
  },
  {
   "cell_type": "markdown",
   "id": "864211f9-383c-41bd-a9e0-db72d1c44cbe",
   "metadata": {},
   "source": [
    "### Below are a few examples of evaluating arithmetic expresions in Python"
   ]
  },
  {
   "cell_type": "code",
   "execution_count": 35,
   "id": "c6c771e1-3b7e-48e7-b055-5223b185e4c1",
   "metadata": {},
   "outputs": [
    {
     "data": {
      "text/plain": [
       "17"
      ]
     },
     "execution_count": 35,
     "metadata": {},
     "output_type": "execute_result"
    }
   ],
   "source": [
    "#This is a simply arithmetic expression to multiply then add integers\n",
    "(3*4)+5"
   ]
  },
  {
   "cell_type": "code",
   "execution_count": 39,
   "id": "ccc58359-ac9a-49e2-84e6-e7fd18005030",
   "metadata": {},
   "outputs": [
    {
     "name": "stdin",
     "output_type": "stream",
     "text": [
      "Enter time in minutes 200\n"
     ]
    },
    {
     "name": "stdout",
     "output_type": "stream",
     "text": [
      "Hours= 3\n",
      "Minutes= 20\n"
     ]
    }
   ],
   "source": [
    "min=int(input(\"Enter time in minutes\"))\n",
    "h=min//60\n",
    "m=min%60\n",
    "print(\"Hours=\",h)\n",
    "print(\"Minutes=\",m)"
   ]
  },
  {
   "cell_type": "markdown",
   "id": "bd64837a-216d-404c-8363-d643516f8cfc",
   "metadata": {},
   "source": []
  },
  {
   "cell_type": "markdown",
   "id": "70cf2512-e9a8-414b-bd10-b99ded714259",
   "metadata": {},
   "source": []
  }
 ],
 "metadata": {
  "kernelspec": {
   "display_name": "Python 3 (ipykernel)",
   "language": "python",
   "name": "python3"
  },
  "language_info": {
   "codemirror_mode": {
    "name": "ipython",
    "version": 3
   },
   "file_extension": ".py",
   "mimetype": "text/x-python",
   "name": "python",
   "nbconvert_exporter": "python",
   "pygments_lexer": "ipython3",
   "version": "3.12.4"
  }
 },
 "nbformat": 4,
 "nbformat_minor": 5
}
